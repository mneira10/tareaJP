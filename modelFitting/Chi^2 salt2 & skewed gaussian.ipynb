{
 "cells": [
  {
   "cell_type": "code",
   "execution_count": 60,
   "metadata": {},
   "outputs": [
    {
     "name": "stderr",
     "output_type": "stream",
     "text": [
      "/home/mauro/anaconda3/lib/python3.6/importlib/_bootstrap.py:219: RuntimeWarning: numpy.dtype size changed, may indicate binary incompatibility. Expected 96, got 88\n",
      "  return f(*args, **kwds)\n"
     ]
    }
   ],
   "source": [
    "import numpy as np\n",
    "from scipy.optimize import curve_fit, least_squares\n",
    "import matplotlib.pyplot as plt\n",
    "import sncosmo\n",
    "import pandas as pd\n",
    "from astropy.table import Table\n",
    "import math\n",
    "from lmfit.models import SkewedGaussianModel\n"
   ]
  },
  {
   "cell_type": "markdown",
   "metadata": {},
   "source": [
    "Formula for magnitude from flux:\n",
    "\n",
    "$$m=zp-2.5log_{10}(f)$$\n",
    "\n",
    "Where $zp$ is the zero point, $f$ the flux and $m$ the magnitude.\n",
    "\n",
    "Consequently, the formula for flux from magnitude is:\n",
    "\n",
    "$$\\boxed{f = 10^{\\frac{-m+zp}{2.5}}}$$\n",
    "\n",
    "Now, we can calculate $\\sigma_{f}$ based on $\\sigma_{m}$ using error propagation:\n",
    "\n",
    "$$\\sigma_f = \\sqrt{\\left(\\frac{\\delta g}{\\delta m}\\right)^2 \\cdot \\sigma_m^2}$$\n",
    "\n",
    "Where $g(m)$ is the formula for calculating the flux from magnitude. Thus, we have that:\n",
    "\n",
    "$$\\frac{\\delta g}{\\delta m} = \\frac{-ln(10)\\cdot10^{\\frac{-m+zp}{2.5}}}{2.5}$$\n",
    "\n",
    "As a result, we have that:\n",
    "\n",
    "$$\\boxed{\\sigma_f = \\sqrt{\\left(\\frac{-ln(10)\\cdot10^{\\frac{-m+zp}{2.5}}}{2.5}\\right)^2\\cdot\\sigma_m^2}}$$\n"
   ]
  },
  {
   "cell_type": "code",
   "execution_count": 2,
   "metadata": {},
   "outputs": [],
   "source": [
    "zp = 24.80"
   ]
  },
  {
   "cell_type": "code",
   "execution_count": 3,
   "metadata": {},
   "outputs": [],
   "source": [
    "def fluxFromMag(m):\n",
    "    return 10**((-m+zp)/2.5)\n",
    "\n",
    "def sigmaF(m,sigmaM):\n",
    "    dgdm = (np.log(10)*10**((zp-m)/2.5)/2.5)\n",
    "    return (dgdm**2*sigmaM**2)**0.5\n",
    "\n",
    "def chi2salt2(lc,model):\n",
    "#     model = sncosmo.Model(source='salt2')\n",
    "    res, fitted_model = sncosmo.fit_lc(lc, model, ['z', 't0', 'x0', 'x1', 'c'],  bounds={'z':(0.1, 1.3)})\n",
    "    return res.chisq\n",
    "    "
   ]
  },
  {
   "cell_type": "code",
   "execution_count": 4,
   "metadata": {},
   "outputs": [],
   "source": [
    "transients = pd.read_pickle('../DiegoData/lightCurves/transient_lightcurves_clean.pickle')\n",
    "non_transients = pd.read_pickle('../DiegoData/lightCurves/nontransient_lightcurves_clean.pickle')\n",
    "catalogue = pd.read_pickle('../DiegoData/transient_catalog.pickle')"
   ]
  },
  {
   "cell_type": "code",
   "execution_count": 5,
   "metadata": {},
   "outputs": [],
   "source": [
    "# Rename columns to match light curves\n",
    "catalogue = catalogue.rename(\n",
    "    columns={'TransientID': 'ID', 'Classification': 'class'})\n",
    "catalogue.ID = 'TranID' + catalogue.ID.apply(str)\n",
    "catalogue = catalogue.set_index('ID')"
   ]
  },
  {
   "cell_type": "code",
   "execution_count": 6,
   "metadata": {},
   "outputs": [],
   "source": [
    "transients = transients.join(catalogue, how='inner')"
   ]
  },
  {
   "cell_type": "code",
   "execution_count": 7,
   "metadata": {},
   "outputs": [],
   "source": [
    "non_transients['class'] = 'non-transient'"
   ]
  },
  {
   "cell_type": "code",
   "execution_count": 8,
   "metadata": {},
   "outputs": [],
   "source": [
    "all_objects = transients.append(non_transients)\n"
   ]
  },
  {
   "cell_type": "code",
   "execution_count": 9,
   "metadata": {},
   "outputs": [],
   "source": [
    "all_objects['zp'] = zp \n",
    "all_objects['zpsys'] = 'ab'\n",
    "all_objects['band'] = \"sdssr\"\n",
    "\n",
    "allCols = list(all_objects.columns)\n",
    "allCols[2] = 'time'\n",
    "all_objects.columns = allCols"
   ]
  },
  {
   "cell_type": "code",
   "execution_count": 10,
   "metadata": {},
   "outputs": [],
   "source": [
    "all_objects['flux'] = fluxFromMag(all_objects['Mag'])\n",
    "all_objects['fluxerr'] = sigmaF(all_objects['Mag'],all_objects['Magerr'])\n",
    "all_objects = all_objects.drop(['Mag','Magerr'],axis=1)"
   ]
  },
  {
   "cell_type": "code",
   "execution_count": 11,
   "metadata": {},
   "outputs": [],
   "source": [
    "SN  = all_objects[all_objects['class'] == 'SN']\n",
    "NSN = all_objects[all_objects['class'] != 'SN']"
   ]
  },
  {
   "cell_type": "code",
   "execution_count": 47,
   "metadata": {},
   "outputs": [],
   "source": [
    "def salt2Df(df):\n",
    "    ids = df.index.get_level_values('ID').unique()\n",
    "    ids = np.random.choice(ids,200,replace=False)\n",
    "    dfToProcess = df[df.index.get_level_values('ID').isin(ids)]\n",
    "    table = Table.from_pandas(dfToProcess.reset_index())\n",
    "    \n",
    "    obs_by_name = table.group_by('ID')\n",
    "    chis = []\n",
    "    cont = 1\n",
    "    model = sncosmo.Model(source='salt2')\n",
    "    for key, group in zip(obs_by_name.groups.keys, obs_by_name.groups):\n",
    "    #     print(len(group))\n",
    "        try:\n",
    "            chis.append(chi2salt2(group,model))\n",
    "        except:\n",
    "            chis.append(-1)\n",
    "        print('\\r {} {} {} '.format(str(len(group)),str(cont*100/len(obs_by_name.groups)),cont),end='')\n",
    "        cont += 1\n",
    "        if(cont==200):\n",
    "            return chis\n",
    "    "
   ]
  },
  {
   "cell_type": "code",
   "execution_count": 48,
   "metadata": {},
   "outputs": [
    {
     "name": "stdout",
     "output_type": "stream",
     "text": [
      " 8 4.0 8 "
     ]
    },
    {
     "name": "stderr",
     "output_type": "stream",
     "text": [
      "/home/mauro/anaconda3/lib/python3.6/site-packages/sncosmo/models.py:697: RuntimeWarning: overflow encountered in power\n",
      "  10. ** (-0.4 * self._colorlaw(wave) * self._parameters[2]))\n",
      "/home/mauro/anaconda3/lib/python3.6/site-packages/sncosmo/models.py:697: RuntimeWarning: invalid value encountered in multiply\n",
      "  10. ** (-0.4 * self._colorlaw(wave) * self._parameters[2]))\n"
     ]
    },
    {
     "name": "stdout",
     "output_type": "stream",
     "text": [
      " 21 13.5 27 "
     ]
    },
    {
     "name": "stderr",
     "output_type": "stream",
     "text": [
      "/home/mauro/anaconda3/lib/python3.6/site-packages/numpy/core/fromnumeric.py:83: RuntimeWarning: invalid value encountered in reduce\n",
      "  return ufunc.reduce(obj, axis, dtype, out, **passkwargs)\n"
     ]
    },
    {
     "name": "stdout",
     "output_type": "stream",
     "text": [
      " 4 99.5 199 "
     ]
    }
   ],
   "source": [
    "chisSN = salt2Df(SN)"
   ]
  },
  {
   "cell_type": "code",
   "execution_count": 50,
   "metadata": {},
   "outputs": [
    {
     "name": "stdout",
     "output_type": "stream",
     "text": [
      " 395 13.0 26 "
     ]
    },
    {
     "name": "stderr",
     "output_type": "stream",
     "text": [
      "/home/mauro/anaconda3/lib/python3.6/site-packages/sncosmo/models.py:697: RuntimeWarning: overflow encountered in power\n",
      "  10. ** (-0.4 * self._colorlaw(wave) * self._parameters[2]))\n",
      "/home/mauro/anaconda3/lib/python3.6/site-packages/sncosmo/models.py:697: RuntimeWarning: invalid value encountered in multiply\n",
      "  10. ** (-0.4 * self._colorlaw(wave) * self._parameters[2]))\n",
      "/home/mauro/anaconda3/lib/python3.6/site-packages/numpy/core/fromnumeric.py:83: RuntimeWarning: invalid value encountered in reduce\n",
      "  return ufunc.reduce(obj, axis, dtype, out, **passkwargs)\n"
     ]
    },
    {
     "name": "stdout",
     "output_type": "stream",
     "text": [
      " 229 99.5 199 "
     ]
    }
   ],
   "source": [
    "chisNSN = salt2Df(NSN)"
   ]
  },
  {
   "cell_type": "code",
   "execution_count": 52,
   "metadata": {},
   "outputs": [
    {
     "name": "stderr",
     "output_type": "stream",
     "text": [
      "/home/mauro/anaconda3/lib/python3.6/site-packages/matplotlib/axes/_axes.py:6462: UserWarning: The 'normed' kwarg is deprecated, and has been replaced by the 'density' kwarg.\n",
      "  warnings.warn(\"The 'normed' kwarg is deprecated, and has been \"\n"
     ]
    },
    {
     "data": {
      "text/plain": [
       "<matplotlib.legend.Legend at 0x7f29c5814908>"
      ]
     },
     "execution_count": 52,
     "metadata": {},
     "output_type": "execute_result"
    },
    {
     "data": {
      "image/png": "[encoded data removed]",
      "text/plain": [
       "<Figure size 432x288 with 1 Axes>"
      ]
     },
     "metadata": {},
     "output_type": "display_data"
    }
   ],
   "source": [
    "plt.hist(chisNSN,label='NSN',alpha = 0.7,normed = True)\n",
    "plt.hist(chisSN,label='SN'  ,alpha = 0.7,normed = True)\n",
    "plt.title('Salt2 Fitting for supernovas and non supernovas')\n",
    "plt.xlabel(r'$\\chi^2$')\n",
    "plt.legend()"
   ]
  },
  {
   "cell_type": "code",
   "execution_count": 41,
   "metadata": {},
   "outputs": [],
   "source": [
    "def mod_gauss(t, a, t0, tf, tr, b):\n",
    "    return a*((np.exp(-(t-t0)/tf))/(1+np.exp(-(t-t0)/tr)))+b\n",
    "def get_max_index(fluxes):\n",
    "    max_val = 0\n",
    "    max_index = -1\n",
    "    for i, elem in enumerate(fluxes):\n",
    "        \n",
    "        if max_val<elem:\n",
    "            max_val = elem\n",
    "            max_index = i\n",
    "            \n",
    "    return max_index"
   ]
  },
  {
   "cell_type": "code",
   "execution_count": 42,
   "metadata": {},
   "outputs": [],
   "source": [
    "def show_fit_mod_gaussians(t, colors, n_factor = None, plot=True, show_means=False):\n",
    "\n",
    "    \n",
    "    t_by_filter = t.group_by(\"bandpass\")\n",
    "\n",
    "    \n",
    "    min_date = min(t[\"mjd\"])\n",
    "    max_date = max(t[\"mjd\"])\n",
    "    \n",
    "     \n",
    "    indices = t_by_filter.groups.indices\n",
    "    \n",
    "  \n",
    "    for i in range(0, len(indices)-1):\n",
    "\n",
    "        data = t_by_filter[indices[i]:indices[i+1]]\n",
    "        x = data[\"mjd\"]-min_date\n",
    "        y = data[\"flux\"]\n",
    "        \n",
    "        \n",
    "        max_i = get_max_index(data[\"flux\"])\n",
    "        mean_date = data[max_i][\"mjd\"]-min_date\n",
    "        \n",
    "        \n",
    "        n = len(x)\n",
    "        sigma = np.std(y)\n",
    "        \n",
    "        \n",
    "        popt, pcov = curve_fit(mod_gauss, x, y, p0=[data[max_i][\"flux\"], mean_date, 2, 1.5, 0], maxfev=500000,  sigma = data[\"flux_error\"])\n",
    "        \n",
    "        \n",
    "        c = (y - mod_gauss(x, *popt))\n",
    "        chi = (y - mod_gauss(x, *popt))/data[\"flux_error\"]\n",
    "    \n",
    "        chi2 = (chi**2).sum()\n",
    "        dof = len(x) - len(popt)\n",
    "        \n",
    "        \n",
    "\n",
    "   \n",
    "    return popt, pcov, chi2, dof"
   ]
  },
  {
   "cell_type": "code",
   "execution_count": 109,
   "metadata": {},
   "outputs": [],
   "source": [
    "def chiGaussian(table):\n",
    "    min_date = min(table[\"time\"])\n",
    "    max_date = max(table[\"time\"])\n",
    "    \n",
    "    data=table\n",
    "    \n",
    "    x = data[\"time\"]-min_date\n",
    "    y = data[\"flux\"]\n",
    "\n",
    "\n",
    "    max_i = get_max_index(data[\"flux\"])\n",
    "    mean_date = data[max_i][\"time\"]-min_date\n",
    "\n",
    "\n",
    "    n = len(x)\n",
    "    sigma = np.std(y)\n",
    "\n",
    "\n",
    "#     popt, pcov = curve_fit(mod_gauss, x, y, p0=[data[max_i][\"flux\"], mean_date, 2, 1.5, 0], maxfev=500000,  sigma = data[\"fluxerr\"])\n",
    "\n",
    "\n",
    "#     c = (y - mod_gauss(x, *popt))\n",
    "#     chi = (y - mod_gauss(x, *popt))/data[\"fluxerr\"]\n",
    "\n",
    "#     chi2 = (chi**2).sum()\n",
    "    \n",
    "#     dof = len(x) - len(popt)\n",
    "#     print('Y:',list(y))\n",
    "#     print('modGauss: ',list(mod_gauss(x, *popt)))\n",
    "    \n",
    "#     print(\"Chi:\" ,list(chi))\n",
    "#     print('-'[0]*50)\n",
    "#     return chi2\n",
    "\n",
    "    \n",
    "    model = SkewedGaussianModel()\n",
    "\n",
    "    # set initial parameter values\n",
    "    params = model.make_params(amplitude=max(y), center=mean_date, sigma=sigma, gamma=1)\n",
    "\n",
    "    # adjust parameters  to best fit data.\n",
    "    result = model.fit(y, params, x=x)\n",
    "#     print('laksdlaks')\n",
    "    return result.chisqr\n",
    "#     print(result.fit_report())\n",
    "    \n",
    "def chiGaussianAll(df):\n",
    "#     print('entra')\n",
    "    ids = df.index.get_level_values('ID').unique()\n",
    "    ids = np.random.choice(ids,200,replace=False)\n",
    "    dfToProcess = df[df.index.get_level_values('ID').isin(ids)]\n",
    "    table = Table.from_pandas(dfToProcess.reset_index())\n",
    "#     print(table.columns)\n",
    "    obs_by_name = table.group_by('ID')\n",
    "    chis = []\n",
    "    cont = 1\n",
    "    for key, group in zip(obs_by_name.groups.keys, obs_by_name.groups):\n",
    "        try:\n",
    "            chis.append(chiGaussian(group))\n",
    "            cont += 1\n",
    "        except:\n",
    "            chis.append(-1)\n",
    "#         break\n",
    "        print('\\r {} {} {} '.format(str(len(group)),str(cont*100/len(obs_by_name.groups)),cont),end='')\n",
    "        \n",
    "        if(cont==200):\n",
    "            return chis\n",
    "    \n",
    "    return chis"
   ]
  },
  {
   "cell_type": "code",
   "execution_count": 110,
   "metadata": {},
   "outputs": [
    {
     "name": "stdout",
     "output_type": "stream",
     "text": [
      " 7 87.0 174 "
     ]
    }
   ],
   "source": [
    "chisSNGaussian = chiGaussianAll(SN)"
   ]
  },
  {
   "cell_type": "code",
   "execution_count": 112,
   "metadata": {},
   "outputs": [
    {
     "name": "stdout",
     "output_type": "stream",
     "text": [
      " 5 92.5 185 "
     ]
    }
   ],
   "source": [
    "chisNSNGaussian = chiGaussianAll(NSN)"
   ]
  },
  {
   "cell_type": "code",
   "execution_count": 113,
   "metadata": {},
   "outputs": [
    {
     "name": "stdout",
     "output_type": "stream",
     "text": [
      "200\n",
      "200\n"
     ]
    }
   ],
   "source": [
    "print(len(chisSNGaussian))\n",
    "print(len(chisNSNGaussian))"
   ]
  },
  {
   "cell_type": "code",
   "execution_count": 132,
   "metadata": {},
   "outputs": [
    {
     "data": {
      "text/plain": [
       "<matplotlib.legend.Legend at 0x7fa3f80f1588>"
      ]
     },
     "execution_count": 132,
     "metadata": {},
     "output_type": "execute_result"
    },
    {
     "data": {
      "image/png": "[encoded data removed]",
      "text/plain": [
       "<Figure size 432x288 with 1 Axes>"
      ]
     },
     "metadata": {},
     "output_type": "display_data"
    }
   ],
   "source": [
    "plt.hist(chisNSNGaussian,label='NSN',alpha = 0.7,density=True)\n",
    "plt.hist(chisSNGaussian,label='SN'  ,alpha = 0.7,density=True)\n",
    "plt.title('Skew gaussian fitting ')\n",
    "plt.xlabel(r'$\\chi^2$')\n",
    "plt.xlim(0,2e9)\n",
    "plt.legend()"
   ]
  },
  {
   "cell_type": "code",
   "execution_count": null,
   "metadata": {},
   "outputs": [],
   "source": []
  }
 ],
 "metadata": {
  "kernelspec": {
   "display_name": "Python 3",
   "language": "python",
   "name": "python3"
  },
  "language_info": {
   "codemirror_mode": {
    "name": "ipython",
    "version": 3
   },
   "file_extension": ".py",
   "mimetype": "text/x-python",
   "name": "python",
   "nbconvert_exporter": "python",
   "pygments_lexer": "ipython3",
   "version": "3.6.8"
  }
 },
 "nbformat": 4,
 "nbformat_minor": 2
}
